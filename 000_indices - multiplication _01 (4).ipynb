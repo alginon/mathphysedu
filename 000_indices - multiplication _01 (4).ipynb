{
 "cells": [
  {
   "cell_type": "markdown",
   "metadata": {},
   "source": [
    " # <div><u>Learn Math & Python Coding</strong></u> &nbsp; (with Jupyter Notebooks)</div>\n",
    "## <div>by Alan J. Reed from <a href=\"http://www.gcsemathstutor.com/\">GCSE Maths Tutor</a></div>"
   ]
  },
  {
   "cell_type": "markdown",
   "metadata": {
    "collapsed": true
   },
   "source": [
    "### <b>User Information</b>\n",
    "<center>\n",
    "<table width=\"621\" border=\"0\">\n",
    "  <tr>\n",
    "    <td width=\"192\"><strong>Ctrl-Enter</strong>&nbsp;: run cell</td>\n",
    "    <td width=\"211\"><strong>Space</strong>&nbsp;: scroll down</td>\n",
    "    <td width=\"204\"><strong>Space</strong>&nbsp;: scroll down</td>\n",
    "  </tr>\n",
    "  <tr>\n",
    "    <td><strong>A</strong>&nbsp;: insert cell above</td>\n",
    "    <td><strong>C</strong>&nbsp;: copy selected cell</td>\n",
    "    <td><strong>O</strong>&nbsp;: toggle output</td>\n",
    "  </tr>\n",
    "  <tr>\n",
    "    <td><strong>B</strong>&nbsp;: insert cell below</td>\n",
    "    <td><strong>Shift-V</strong>&nbsp;: paste cell above</td>\n",
    "    <td><strong>L</strong>&nbsp;: toggle line numbers</td>\n",
    "  </tr>\n",
    "  <tr>\n",
    "    <td><strong>X&nbsp;</strong>: cut selected cell</td>\n",
    "    <td><strong>V</strong>&nbsp;: paste cell below</td>\n",
    "    <td><strong>S</strong>&nbsp;: Save and Checkpoint</td>\n",
    "  </tr>\n",
    "</table>\n",
    "</center>\n",
    "<hr>"
   ]
  },
  {
   "cell_type": "markdown",
   "metadata": {
    "collapsed": true
   },
   "source": [
    "### <b><u>Indices - Multiplication 01</u></b>\n",
    "<p>In our example '<b>a</b>' is what we call the <b>base</b>.<br/>\n",
    "When we multiply the five '<b>a's</b> together we get '<b>a</b>' to the <b>power of five</b>.<br/>\n",
    "The <b>power of five</b> is called the '<b>exponent</b>' or '<b>index</b>' of '<b>a</b>'.</p>"
   ]
  },
  {
   "cell_type": "markdown",
   "metadata": {},
   "source": [
    "$$\\Large a^1 \\times a^1 \\times a^1 \\times a^1 \\times a^1 = a^{5}$$\n",
    "\n",
    "$$\\Large 2^1 \\times 2^1 \\times 2^1 \\times 2^1 \\times 2^1 = 2^{5}$$\n",
    "\n",
    "$$\\Large 2^{5} = 32$$"
   ]
  },
  {
   "cell_type": "markdown",
   "metadata": {},
   "source": [
    "### <p><b><u>About this Python script</u></b></p>\n",
    "<p>The script will help you gain practice at:</p>\n",
    "<center>\n",
    "<table width=\"400\" border=\"0\">\n",
    "  <tr>\n",
    "    <td><p>using the Sympy module to represent mathematical symbols</p></td>\n",
    "  </tr>\n",
    "  <tr>\n",
    "    <td><p>representing quantities multiplied together</p></td>\n",
    "  </tr>\n",
    "  <tr>\n",
    "    <td><p>representing quantities raised to powers</p></td>\n",
    "  </tr>\n",
    "  <tr>\n",
    "    <td><p>changing letters representing output</p></td>\n",
    "  </tr>\n",
    "  <tr>\n",
    "    <td><p>printing output in Python and using Pretty Print</p></td>\n",
    "  </tr>\n",
    "  <tr>\n",
    "    <td><p>calculating the numerical value of an expression</p></td>\n",
    "  </tr>\n",
    "</table>\n",
    "</center>\n",
    "<p>The script multiplies out a quantity '<b>a</b>' by itself five times.<br/>\n",
    "The result is then put into a variable '<b>b</b>' .<br/>\n",
    "'<b>b</b>' is subsequently printed out in standard Python and using Pretty Print.</p>"
   ]
  },
  {
   "cell_type": "code",
   "execution_count": 1,
   "metadata": {
    "collapsed": true
   },
   "outputs": [
    {
     "name": "stdout",
     "output_type": "stream",
     "text": [
      "a**6\n",
      "\n",
      " 6\n",
      "a \n"
     ]
    }
   ],
   "source": [
    "from sympy import *       # import everything from the module 'sympy'\n",
    "    \n",
    "a = Symbol('a')           # defining 'a' as a symbol\n",
    "\n",
    "b=a*a*a*a*a*a             # '*' in Python means multiply (x)\n",
    "\n",
    "print (b)                 # output in Python   '**' means to the power of\n",
    "print()                   # line space\n",
    "pprint(b)                 # output in Pretty Print - in standard mathematical format\n",
    "\n"
   ]
  },
  {
   "cell_type": "markdown",
   "metadata": {},
   "source": [
    "<p><b><u>Task #1 running the script</u></b></p>\n",
    "<p>Run the Python script in the above cell by placing the cursor anywhere inside the cell. Left mouse click. Then press <b>CTRL SHIFT</b>.</p>\n",
    "\n",
    "<p>Now hide the output from the cell, by placing the cursor in the margin to the left of the output and double click with the left hand mouse button.</p>"
   ]
  },
  {
   "cell_type": "markdown",
   "metadata": {},
   "source": [
    "<p><b><u>Task #2 altering the number of 'a's</u></b></p>\n",
    "<p>You should now appreciate that a line of 'a's multiplied together can be represented by a single 'a' with a number to the upper right equal to the number of 'a's.</p>\n",
    "<p>Now alter the value of 'b' by multiplying by 'a' more times. Just place the cursor at the last 'a' and type. You choose how many '*a's to include.</p> \n",
    "<p>Remember, to run the script again, you place the cursor anywhere in the cell, left mouse click, and press <B>CTRL SHIFT</B>.</p>"
   ]
  },
  {
   "cell_type": "markdown",
   "metadata": {},
   "source": [
    "<p><b><u>Task #3 changing the output letter 'b'</u></b></p>\n",
    "<p>Change 'b' to whatever letter you like, except 'a' .</p>\n",
    "<p>But remember every 'b' in the script must be changed to the new letter.</p>\n",
    "<p>If the script gives an error when you run it, then you'll know you have missed something.</p>"
   ]
  },
  {
   "cell_type": "markdown",
   "metadata": {},
   "source": [
    "<p><b><u>Task #4 obtaining a numerical value</u></b></p>\n",
    "<p>You can easily obtain a value for your expression of 'a's multiplied together.</p>\n",
    "<p>To do this you must stop the line of code:   a = Symbol('a')   and replace it with the value of 'a' you want. Say a = 3 .</p>\n",
    "<p>To stop the line of code 'a = Symbol(... ' from executing just place a hashtag # infront of it.</p>\n",
    "<p>Then write below on the next line 'a = 3'</p>\n",
    "<p>The resulting number as output will be printed twice."
   ]
  },
  {
   "cell_type": "markdown",
   "metadata": {},
   "source": [
    "<p><b><u>Task #5 save your amended Python script to your hard-drive and over-write the previous version</u></b></p>\n"
   ]
  },
  {
   "cell_type": "code",
   "execution_count": null,
   "metadata": {
    "collapsed": true
   },
   "outputs": [],
   "source": []
  }
 ],
 "metadata": {
  "kernelspec": {
   "display_name": "Python 3",
   "language": "python",
   "name": "python3"
  },
  "language_info": {
   "codemirror_mode": {
    "name": "ipython",
    "version": 3
   },
   "file_extension": ".py",
   "mimetype": "text/x-python",
   "name": "python",
   "nbconvert_exporter": "python",
   "pygments_lexer": "ipython3",
   "version": "3.5.1"
  }
 },
 "nbformat": 4,
 "nbformat_minor": 0
}
